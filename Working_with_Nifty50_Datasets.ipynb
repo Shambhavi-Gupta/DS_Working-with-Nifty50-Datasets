{
  "nbformat": 4,
  "nbformat_minor": 0,
  "metadata": {
    "colab": {
      "name": "Working with Nifty50 Datasets.ipynb",
      "provenance": [],
      "authorship_tag": "ABX9TyPavBKcxLFIKQpLtfC9s/NT",
      "include_colab_link": true
    },
    "kernelspec": {
      "name": "python3",
      "display_name": "Python 3"
    }
  },
  "cells": [
    {
      "cell_type": "markdown",
      "metadata": {
        "id": "view-in-github",
        "colab_type": "text"
      },
      "source": [
        "<a href=\"https://colab.research.google.com/github/Shambhavi-Gupta/DS_Working-with-Nifty50-Datasets/blob/master/Working_with_Nifty50_Datasets.ipynb\" target=\"_parent\"><img src=\"https://colab.research.google.com/assets/colab-badge.svg\" alt=\"Open In Colab\"/></a>"
      ]
    },
    {
      "cell_type": "code",
      "metadata": {
        "id": "ouBbRo99LLis",
        "colab_type": "code",
        "colab": {}
      },
      "source": [
        "import numpy as np\n",
        "import pandas as pd\n"
      ],
      "execution_count": null,
      "outputs": []
    },
    {
      "cell_type": "code",
      "metadata": {
        "id": "UPe8-kaYL3_6",
        "colab_type": "code",
        "colab": {}
      },
      "source": [
        "nifty50_2018 = pd.read_csv('NIFTY50_2018.csv')"
      ],
      "execution_count": null,
      "outputs": []
    },
    {
      "cell_type": "code",
      "metadata": {
        "id": "Ps7FP3TwMgYu",
        "colab_type": "code",
        "colab": {
          "base_uri": "https://localhost:8080/",
          "height": 204
        },
        "outputId": "230b6eab-3d67-4caa-e5cc-52f8f2d78ed1"
      },
      "source": [
        "nifty50_2018.head()"
      ],
      "execution_count": null,
      "outputs": [
        {
          "output_type": "execute_result",
          "data": {
            "text/html": [
              "<div>\n",
              "<style scoped>\n",
              "    .dataframe tbody tr th:only-of-type {\n",
              "        vertical-align: middle;\n",
              "    }\n",
              "\n",
              "    .dataframe tbody tr th {\n",
              "        vertical-align: top;\n",
              "    }\n",
              "\n",
              "    .dataframe thead th {\n",
              "        text-align: right;\n",
              "    }\n",
              "</style>\n",
              "<table border=\"1\" class=\"dataframe\">\n",
              "  <thead>\n",
              "    <tr style=\"text-align: right;\">\n",
              "      <th></th>\n",
              "      <th>Date</th>\n",
              "      <th>Open</th>\n",
              "      <th>High</th>\n",
              "      <th>Low</th>\n",
              "      <th>Close</th>\n",
              "    </tr>\n",
              "  </thead>\n",
              "  <tbody>\n",
              "    <tr>\n",
              "      <th>0</th>\n",
              "      <td>31 Dec 2018</td>\n",
              "      <td>10913.20</td>\n",
              "      <td>10923.55</td>\n",
              "      <td>10853.20</td>\n",
              "      <td>10862.55</td>\n",
              "    </tr>\n",
              "    <tr>\n",
              "      <th>1</th>\n",
              "      <td>28 Dec 2018</td>\n",
              "      <td>10820.95</td>\n",
              "      <td>10893.60</td>\n",
              "      <td>10817.15</td>\n",
              "      <td>10859.90</td>\n",
              "    </tr>\n",
              "    <tr>\n",
              "      <th>2</th>\n",
              "      <td>27 Dec 2018</td>\n",
              "      <td>10817.90</td>\n",
              "      <td>10834.20</td>\n",
              "      <td>10764.45</td>\n",
              "      <td>10779.80</td>\n",
              "    </tr>\n",
              "    <tr>\n",
              "      <th>3</th>\n",
              "      <td>26 Dec 2018</td>\n",
              "      <td>10635.45</td>\n",
              "      <td>10747.50</td>\n",
              "      <td>10534.55</td>\n",
              "      <td>10729.85</td>\n",
              "    </tr>\n",
              "    <tr>\n",
              "      <th>4</th>\n",
              "      <td>24 Dec 2018</td>\n",
              "      <td>10780.90</td>\n",
              "      <td>10782.30</td>\n",
              "      <td>10649.25</td>\n",
              "      <td>10663.50</td>\n",
              "    </tr>\n",
              "  </tbody>\n",
              "</table>\n",
              "</div>"
            ],
            "text/plain": [
              "          Date      Open      High       Low     Close\n",
              "0  31 Dec 2018  10913.20  10923.55  10853.20  10862.55\n",
              "1  28 Dec 2018  10820.95  10893.60  10817.15  10859.90\n",
              "2  27 Dec 2018  10817.90  10834.20  10764.45  10779.80\n",
              "3  26 Dec 2018  10635.45  10747.50  10534.55  10729.85\n",
              "4  24 Dec 2018  10780.90  10782.30  10649.25  10663.50"
            ]
          },
          "metadata": {
            "tags": []
          },
          "execution_count": 3
        }
      ]
    },
    {
      "cell_type": "code",
      "metadata": {
        "id": "T_yaarEoMj8v",
        "colab_type": "code",
        "colab": {}
      },
      "source": [
        "nifty50_2018 = pd.read_csv('NIFTY50_2018.csv' , index_col =0)"
      ],
      "execution_count": null,
      "outputs": []
    },
    {
      "cell_type": "code",
      "metadata": {
        "id": "xhqnml0FNHvz",
        "colab_type": "code",
        "colab": {
          "base_uri": "https://localhost:8080/",
          "height": 235
        },
        "outputId": "890fee68-20c0-4eff-f598-974fc17ff7f7"
      },
      "source": [
        "nifty50_2018.head()"
      ],
      "execution_count": null,
      "outputs": [
        {
          "output_type": "execute_result",
          "data": {
            "text/html": [
              "<div>\n",
              "<style scoped>\n",
              "    .dataframe tbody tr th:only-of-type {\n",
              "        vertical-align: middle;\n",
              "    }\n",
              "\n",
              "    .dataframe tbody tr th {\n",
              "        vertical-align: top;\n",
              "    }\n",
              "\n",
              "    .dataframe thead th {\n",
              "        text-align: right;\n",
              "    }\n",
              "</style>\n",
              "<table border=\"1\" class=\"dataframe\">\n",
              "  <thead>\n",
              "    <tr style=\"text-align: right;\">\n",
              "      <th></th>\n",
              "      <th>Open</th>\n",
              "      <th>High</th>\n",
              "      <th>Low</th>\n",
              "      <th>Close</th>\n",
              "    </tr>\n",
              "    <tr>\n",
              "      <th>Date</th>\n",
              "      <th></th>\n",
              "      <th></th>\n",
              "      <th></th>\n",
              "      <th></th>\n",
              "    </tr>\n",
              "  </thead>\n",
              "  <tbody>\n",
              "    <tr>\n",
              "      <th>31 Dec 2018</th>\n",
              "      <td>10913.20</td>\n",
              "      <td>10923.55</td>\n",
              "      <td>10853.20</td>\n",
              "      <td>10862.55</td>\n",
              "    </tr>\n",
              "    <tr>\n",
              "      <th>28 Dec 2018</th>\n",
              "      <td>10820.95</td>\n",
              "      <td>10893.60</td>\n",
              "      <td>10817.15</td>\n",
              "      <td>10859.90</td>\n",
              "    </tr>\n",
              "    <tr>\n",
              "      <th>27 Dec 2018</th>\n",
              "      <td>10817.90</td>\n",
              "      <td>10834.20</td>\n",
              "      <td>10764.45</td>\n",
              "      <td>10779.80</td>\n",
              "    </tr>\n",
              "    <tr>\n",
              "      <th>26 Dec 2018</th>\n",
              "      <td>10635.45</td>\n",
              "      <td>10747.50</td>\n",
              "      <td>10534.55</td>\n",
              "      <td>10729.85</td>\n",
              "    </tr>\n",
              "    <tr>\n",
              "      <th>24 Dec 2018</th>\n",
              "      <td>10780.90</td>\n",
              "      <td>10782.30</td>\n",
              "      <td>10649.25</td>\n",
              "      <td>10663.50</td>\n",
              "    </tr>\n",
              "  </tbody>\n",
              "</table>\n",
              "</div>"
            ],
            "text/plain": [
              "                 Open      High       Low     Close\n",
              "Date                                               \n",
              "31 Dec 2018  10913.20  10923.55  10853.20  10862.55\n",
              "28 Dec 2018  10820.95  10893.60  10817.15  10859.90\n",
              "27 Dec 2018  10817.90  10834.20  10764.45  10779.80\n",
              "26 Dec 2018  10635.45  10747.50  10534.55  10729.85\n",
              "24 Dec 2018  10780.90  10782.30  10649.25  10663.50"
            ]
          },
          "metadata": {
            "tags": []
          },
          "execution_count": 5
        }
      ]
    },
    {
      "cell_type": "code",
      "metadata": {
        "id": "ATLrfwCxNMBz",
        "colab_type": "code",
        "colab": {
          "base_uri": "https://localhost:8080/",
          "height": 102
        },
        "outputId": "fe38b1a6-f0ba-4297-c7c3-a6ecc0aad9fa"
      },
      "source": [
        "nifty50_2018.loc['31 Dec 2018']"
      ],
      "execution_count": null,
      "outputs": [
        {
          "output_type": "execute_result",
          "data": {
            "text/plain": [
              "Open     10913.20\n",
              "High     10923.55\n",
              "Low      10853.20\n",
              "Close    10862.55\n",
              "Name: 31 Dec 2018, dtype: float64"
            ]
          },
          "metadata": {
            "tags": []
          },
          "execution_count": 6
        }
      ]
    },
    {
      "cell_type": "code",
      "metadata": {
        "id": "RgQ9SD8ONcJD",
        "colab_type": "code",
        "colab": {
          "base_uri": "https://localhost:8080/",
          "height": 238
        },
        "outputId": "9ef054be-d577-4ffd-a896-842a86946087"
      },
      "source": [
        "nifty50_2018['Open']"
      ],
      "execution_count": null,
      "outputs": [
        {
          "output_type": "execute_result",
          "data": {
            "text/plain": [
              "Date\n",
              "31 Dec 2018    10913.20\n",
              "28 Dec 2018    10820.95\n",
              "27 Dec 2018    10817.90\n",
              "26 Dec 2018    10635.45\n",
              "24 Dec 2018    10780.90\n",
              "                 ...   \n",
              "05 Jan 2018    10534.25\n",
              "04 Jan 2018    10469.40\n",
              "03 Jan 2018    10482.65\n",
              "02 Jan 2018    10477.55\n",
              "01 Jan 2018    10531.70\n",
              "Name: Open, Length: 246, dtype: float64"
            ]
          },
          "metadata": {
            "tags": []
          },
          "execution_count": 7
        }
      ]
    },
    {
      "cell_type": "code",
      "metadata": {
        "id": "NNr6PiaHNvwX",
        "colab_type": "code",
        "colab": {}
      },
      "source": [
        "nifty50_2019 = pd.read_csv('NIFTY50_2019.csv' , index_col =0)"
      ],
      "execution_count": null,
      "outputs": []
    },
    {
      "cell_type": "code",
      "metadata": {
        "id": "PVXuWu4YOPDj",
        "colab_type": "code",
        "colab": {
          "base_uri": "https://localhost:8080/",
          "height": 235
        },
        "outputId": "f4bab168-0b15-496b-9424-d1cfa1f50a6c"
      },
      "source": [
        "nifty50_2019.head()"
      ],
      "execution_count": null,
      "outputs": [
        {
          "output_type": "execute_result",
          "data": {
            "text/html": [
              "<div>\n",
              "<style scoped>\n",
              "    .dataframe tbody tr th:only-of-type {\n",
              "        vertical-align: middle;\n",
              "    }\n",
              "\n",
              "    .dataframe tbody tr th {\n",
              "        vertical-align: top;\n",
              "    }\n",
              "\n",
              "    .dataframe thead th {\n",
              "        text-align: right;\n",
              "    }\n",
              "</style>\n",
              "<table border=\"1\" class=\"dataframe\">\n",
              "  <thead>\n",
              "    <tr style=\"text-align: right;\">\n",
              "      <th></th>\n",
              "      <th>Open</th>\n",
              "      <th>High</th>\n",
              "      <th>Low</th>\n",
              "      <th>Close</th>\n",
              "    </tr>\n",
              "    <tr>\n",
              "      <th>Date</th>\n",
              "      <th></th>\n",
              "      <th></th>\n",
              "      <th></th>\n",
              "      <th></th>\n",
              "    </tr>\n",
              "  </thead>\n",
              "  <tbody>\n",
              "    <tr>\n",
              "      <th>31 Dec 2019</th>\n",
              "      <td>12247.10</td>\n",
              "      <td>12247.10</td>\n",
              "      <td>12151.80</td>\n",
              "      <td>12168.45</td>\n",
              "    </tr>\n",
              "    <tr>\n",
              "      <th>30 Dec 2019</th>\n",
              "      <td>12274.90</td>\n",
              "      <td>12286.45</td>\n",
              "      <td>12213.80</td>\n",
              "      <td>12255.85</td>\n",
              "    </tr>\n",
              "    <tr>\n",
              "      <th>27 Dec 2019</th>\n",
              "      <td>12172.90</td>\n",
              "      <td>12258.45</td>\n",
              "      <td>12157.90</td>\n",
              "      <td>12245.80</td>\n",
              "    </tr>\n",
              "    <tr>\n",
              "      <th>26 Dec 2019</th>\n",
              "      <td>12211.85</td>\n",
              "      <td>12221.55</td>\n",
              "      <td>12118.85</td>\n",
              "      <td>12126.55</td>\n",
              "    </tr>\n",
              "    <tr>\n",
              "      <th>24 Dec 2019</th>\n",
              "      <td>12269.25</td>\n",
              "      <td>12283.70</td>\n",
              "      <td>12202.10</td>\n",
              "      <td>12214.55</td>\n",
              "    </tr>\n",
              "  </tbody>\n",
              "</table>\n",
              "</div>"
            ],
            "text/plain": [
              "                 Open      High       Low     Close\n",
              "Date                                               \n",
              "31 Dec 2019  12247.10  12247.10  12151.80  12168.45\n",
              "30 Dec 2019  12274.90  12286.45  12213.80  12255.85\n",
              "27 Dec 2019  12172.90  12258.45  12157.90  12245.80\n",
              "26 Dec 2019  12211.85  12221.55  12118.85  12126.55\n",
              "24 Dec 2019  12269.25  12283.70  12202.10  12214.55"
            ]
          },
          "metadata": {
            "tags": []
          },
          "execution_count": 9
        }
      ]
    },
    {
      "cell_type": "code",
      "metadata": {
        "id": "9ak21gnkOSfM",
        "colab_type": "code",
        "colab": {
          "base_uri": "https://localhost:8080/",
          "height": 34
        },
        "outputId": "eb8f6d48-69f8-46fc-c54d-067177469cf9"
      },
      "source": [
        "print(nifty50_2018.shape , nifty50_2019.shape)"
      ],
      "execution_count": null,
      "outputs": [
        {
          "output_type": "stream",
          "text": [
            "(246, 4) (245, 4)\n"
          ],
          "name": "stdout"
        }
      ]
    },
    {
      "cell_type": "code",
      "metadata": {
        "id": "3pkne2ncOqLo",
        "colab_type": "code",
        "colab": {}
      },
      "source": [
        "nifty50 = pd.concat([nifty50_2018 , nifty50_2019])"
      ],
      "execution_count": null,
      "outputs": []
    },
    {
      "cell_type": "code",
      "metadata": {
        "id": "2fikyHX8Ozr1",
        "colab_type": "code",
        "colab": {
          "base_uri": "https://localhost:8080/",
          "height": 34
        },
        "outputId": "d929b584-ce51-4a6e-ccb4-0dd59b8a1282"
      },
      "source": [
        "nifty50.shape"
      ],
      "execution_count": null,
      "outputs": [
        {
          "output_type": "execute_result",
          "data": {
            "text/plain": [
              "(491, 4)"
            ]
          },
          "metadata": {
            "tags": []
          },
          "execution_count": 12
        }
      ]
    },
    {
      "cell_type": "code",
      "metadata": {
        "id": "KRpQyKXbPDik",
        "colab_type": "code",
        "colab": {}
      },
      "source": [
        "niftynext50_2019 = pd.read_csv('NIFTYNext50_2019.csv' , index_col = 0)"
      ],
      "execution_count": null,
      "outputs": []
    },
    {
      "cell_type": "code",
      "metadata": {
        "id": "Ka4MT2c_Pl5h",
        "colab_type": "code",
        "colab": {
          "base_uri": "https://localhost:8080/",
          "height": 235
        },
        "outputId": "f8a34890-f586-4662-f50a-f308f67f9941"
      },
      "source": [
        "niftynext50_2019.head()"
      ],
      "execution_count": null,
      "outputs": [
        {
          "output_type": "execute_result",
          "data": {
            "text/html": [
              "<div>\n",
              "<style scoped>\n",
              "    .dataframe tbody tr th:only-of-type {\n",
              "        vertical-align: middle;\n",
              "    }\n",
              "\n",
              "    .dataframe tbody tr th {\n",
              "        vertical-align: top;\n",
              "    }\n",
              "\n",
              "    .dataframe thead th {\n",
              "        text-align: right;\n",
              "    }\n",
              "</style>\n",
              "<table border=\"1\" class=\"dataframe\">\n",
              "  <thead>\n",
              "    <tr style=\"text-align: right;\">\n",
              "      <th></th>\n",
              "      <th>Open</th>\n",
              "      <th>High</th>\n",
              "      <th>Low</th>\n",
              "      <th>Close</th>\n",
              "    </tr>\n",
              "    <tr>\n",
              "      <th>Date</th>\n",
              "      <th></th>\n",
              "      <th></th>\n",
              "      <th></th>\n",
              "      <th></th>\n",
              "    </tr>\n",
              "  </thead>\n",
              "  <tbody>\n",
              "    <tr>\n",
              "      <th>31 Dec 2019</th>\n",
              "      <td>28495.00</td>\n",
              "      <td>28549.50</td>\n",
              "      <td>28270.25</td>\n",
              "      <td>28307.55</td>\n",
              "    </tr>\n",
              "    <tr>\n",
              "      <th>30 Dec 2019</th>\n",
              "      <td>28528.95</td>\n",
              "      <td>28612.95</td>\n",
              "      <td>28406.70</td>\n",
              "      <td>28484.85</td>\n",
              "    </tr>\n",
              "    <tr>\n",
              "      <th>27 Dec 2019</th>\n",
              "      <td>28354.50</td>\n",
              "      <td>28500.25</td>\n",
              "      <td>28319.90</td>\n",
              "      <td>28476.80</td>\n",
              "    </tr>\n",
              "    <tr>\n",
              "      <th>26 Dec 2019</th>\n",
              "      <td>28409.10</td>\n",
              "      <td>28435.25</td>\n",
              "      <td>28259.75</td>\n",
              "      <td>28280.25</td>\n",
              "    </tr>\n",
              "    <tr>\n",
              "      <th>24 Dec 2019</th>\n",
              "      <td>28423.70</td>\n",
              "      <td>28430.40</td>\n",
              "      <td>28318.75</td>\n",
              "      <td>28382.85</td>\n",
              "    </tr>\n",
              "  </tbody>\n",
              "</table>\n",
              "</div>"
            ],
            "text/plain": [
              "                 Open      High       Low     Close\n",
              "Date                                               \n",
              "31 Dec 2019  28495.00  28549.50  28270.25  28307.55\n",
              "30 Dec 2019  28528.95  28612.95  28406.70  28484.85\n",
              "27 Dec 2019  28354.50  28500.25  28319.90  28476.80\n",
              "26 Dec 2019  28409.10  28435.25  28259.75  28280.25\n",
              "24 Dec 2019  28423.70  28430.40  28318.75  28382.85"
            ]
          },
          "metadata": {
            "tags": []
          },
          "execution_count": 14
        }
      ]
    },
    {
      "cell_type": "code",
      "metadata": {
        "id": "RjB6eyc8Pqay",
        "colab_type": "code",
        "colab": {}
      },
      "source": [
        "nifty_2019 = pd.concat([nifty50_2019 , niftynext50_2019], axis =1)"
      ],
      "execution_count": null,
      "outputs": []
    },
    {
      "cell_type": "code",
      "metadata": {
        "id": "gVQcKJ05QNTU",
        "colab_type": "code",
        "colab": {
          "base_uri": "https://localhost:8080/",
          "height": 235
        },
        "outputId": "e3db5b44-4810-42c4-ca83-aa064055dc0a"
      },
      "source": [
        "nifty_2019.head()"
      ],
      "execution_count": null,
      "outputs": [
        {
          "output_type": "execute_result",
          "data": {
            "text/html": [
              "<div>\n",
              "<style scoped>\n",
              "    .dataframe tbody tr th:only-of-type {\n",
              "        vertical-align: middle;\n",
              "    }\n",
              "\n",
              "    .dataframe tbody tr th {\n",
              "        vertical-align: top;\n",
              "    }\n",
              "\n",
              "    .dataframe thead th {\n",
              "        text-align: right;\n",
              "    }\n",
              "</style>\n",
              "<table border=\"1\" class=\"dataframe\">\n",
              "  <thead>\n",
              "    <tr style=\"text-align: right;\">\n",
              "      <th></th>\n",
              "      <th>Open</th>\n",
              "      <th>High</th>\n",
              "      <th>Low</th>\n",
              "      <th>Close</th>\n",
              "      <th>Open</th>\n",
              "      <th>High</th>\n",
              "      <th>Low</th>\n",
              "      <th>Close</th>\n",
              "    </tr>\n",
              "    <tr>\n",
              "      <th>Date</th>\n",
              "      <th></th>\n",
              "      <th></th>\n",
              "      <th></th>\n",
              "      <th></th>\n",
              "      <th></th>\n",
              "      <th></th>\n",
              "      <th></th>\n",
              "      <th></th>\n",
              "    </tr>\n",
              "  </thead>\n",
              "  <tbody>\n",
              "    <tr>\n",
              "      <th>31 Dec 2019</th>\n",
              "      <td>12247.10</td>\n",
              "      <td>12247.10</td>\n",
              "      <td>12151.80</td>\n",
              "      <td>12168.45</td>\n",
              "      <td>28495.00</td>\n",
              "      <td>28549.50</td>\n",
              "      <td>28270.25</td>\n",
              "      <td>28307.55</td>\n",
              "    </tr>\n",
              "    <tr>\n",
              "      <th>30 Dec 2019</th>\n",
              "      <td>12274.90</td>\n",
              "      <td>12286.45</td>\n",
              "      <td>12213.80</td>\n",
              "      <td>12255.85</td>\n",
              "      <td>28528.95</td>\n",
              "      <td>28612.95</td>\n",
              "      <td>28406.70</td>\n",
              "      <td>28484.85</td>\n",
              "    </tr>\n",
              "    <tr>\n",
              "      <th>27 Dec 2019</th>\n",
              "      <td>12172.90</td>\n",
              "      <td>12258.45</td>\n",
              "      <td>12157.90</td>\n",
              "      <td>12245.80</td>\n",
              "      <td>28354.50</td>\n",
              "      <td>28500.25</td>\n",
              "      <td>28319.90</td>\n",
              "      <td>28476.80</td>\n",
              "    </tr>\n",
              "    <tr>\n",
              "      <th>26 Dec 2019</th>\n",
              "      <td>12211.85</td>\n",
              "      <td>12221.55</td>\n",
              "      <td>12118.85</td>\n",
              "      <td>12126.55</td>\n",
              "      <td>28409.10</td>\n",
              "      <td>28435.25</td>\n",
              "      <td>28259.75</td>\n",
              "      <td>28280.25</td>\n",
              "    </tr>\n",
              "    <tr>\n",
              "      <th>24 Dec 2019</th>\n",
              "      <td>12269.25</td>\n",
              "      <td>12283.70</td>\n",
              "      <td>12202.10</td>\n",
              "      <td>12214.55</td>\n",
              "      <td>28423.70</td>\n",
              "      <td>28430.40</td>\n",
              "      <td>28318.75</td>\n",
              "      <td>28382.85</td>\n",
              "    </tr>\n",
              "  </tbody>\n",
              "</table>\n",
              "</div>"
            ],
            "text/plain": [
              "                 Open      High       Low  ...      High       Low     Close\n",
              "Date                                       ...                              \n",
              "31 Dec 2019  12247.10  12247.10  12151.80  ...  28549.50  28270.25  28307.55\n",
              "30 Dec 2019  12274.90  12286.45  12213.80  ...  28612.95  28406.70  28484.85\n",
              "27 Dec 2019  12172.90  12258.45  12157.90  ...  28500.25  28319.90  28476.80\n",
              "26 Dec 2019  12211.85  12221.55  12118.85  ...  28435.25  28259.75  28280.25\n",
              "24 Dec 2019  12269.25  12283.70  12202.10  ...  28430.40  28318.75  28382.85\n",
              "\n",
              "[5 rows x 8 columns]"
            ]
          },
          "metadata": {
            "tags": []
          },
          "execution_count": 16
        }
      ]
    },
    {
      "cell_type": "code",
      "metadata": {
        "id": "5jBnt3fVQT1q",
        "colab_type": "code",
        "colab": {
          "base_uri": "https://localhost:8080/",
          "height": 34
        },
        "outputId": "6d803d99-b03a-4317-c292-69e349220b89"
      },
      "source": [
        "nifty_2019.shape"
      ],
      "execution_count": null,
      "outputs": [
        {
          "output_type": "execute_result",
          "data": {
            "text/plain": [
              "(245, 8)"
            ]
          },
          "metadata": {
            "tags": []
          },
          "execution_count": 17
        }
      ]
    },
    {
      "cell_type": "code",
      "metadata": {
        "id": "fgg0_b55Qqoo",
        "colab_type": "code",
        "colab": {}
      },
      "source": [
        "nifty_2019 = pd.concat([nifty50_2019 , niftynext50_2019], axis =1 ,\n",
        "                       keys=['nifty50', 'niiftynext50'])"
      ],
      "execution_count": null,
      "outputs": []
    },
    {
      "cell_type": "code",
      "metadata": {
        "id": "i8BTn8olR7lW",
        "colab_type": "code",
        "colab": {
          "base_uri": "https://localhost:8080/",
          "height": 34
        },
        "outputId": "339f095d-a3b8-4819-a8ea-00f8d2236fb0"
      },
      "source": [
        "nifty_2019.shape"
      ],
      "execution_count": null,
      "outputs": [
        {
          "output_type": "execute_result",
          "data": {
            "text/plain": [
              "(245, 8)"
            ]
          },
          "metadata": {
            "tags": []
          },
          "execution_count": 19
        }
      ]
    },
    {
      "cell_type": "code",
      "metadata": {
        "id": "CPCp7M48RpCG",
        "colab_type": "code",
        "colab": {
          "base_uri": "https://localhost:8080/",
          "height": 266
        },
        "outputId": "66fb3f30-5406-416c-a126-acabb43600f1"
      },
      "source": [
        "nifty_2019.head()"
      ],
      "execution_count": null,
      "outputs": [
        {
          "output_type": "execute_result",
          "data": {
            "text/html": [
              "<div>\n",
              "<style scoped>\n",
              "    .dataframe tbody tr th:only-of-type {\n",
              "        vertical-align: middle;\n",
              "    }\n",
              "\n",
              "    .dataframe tbody tr th {\n",
              "        vertical-align: top;\n",
              "    }\n",
              "\n",
              "    .dataframe thead tr th {\n",
              "        text-align: left;\n",
              "    }\n",
              "\n",
              "    .dataframe thead tr:last-of-type th {\n",
              "        text-align: right;\n",
              "    }\n",
              "</style>\n",
              "<table border=\"1\" class=\"dataframe\">\n",
              "  <thead>\n",
              "    <tr>\n",
              "      <th></th>\n",
              "      <th colspan=\"4\" halign=\"left\">nifty50</th>\n",
              "      <th colspan=\"4\" halign=\"left\">niiftynext50</th>\n",
              "    </tr>\n",
              "    <tr>\n",
              "      <th></th>\n",
              "      <th>Open</th>\n",
              "      <th>High</th>\n",
              "      <th>Low</th>\n",
              "      <th>Close</th>\n",
              "      <th>Open</th>\n",
              "      <th>High</th>\n",
              "      <th>Low</th>\n",
              "      <th>Close</th>\n",
              "    </tr>\n",
              "    <tr>\n",
              "      <th>Date</th>\n",
              "      <th></th>\n",
              "      <th></th>\n",
              "      <th></th>\n",
              "      <th></th>\n",
              "      <th></th>\n",
              "      <th></th>\n",
              "      <th></th>\n",
              "      <th></th>\n",
              "    </tr>\n",
              "  </thead>\n",
              "  <tbody>\n",
              "    <tr>\n",
              "      <th>31 Dec 2019</th>\n",
              "      <td>12247.10</td>\n",
              "      <td>12247.10</td>\n",
              "      <td>12151.80</td>\n",
              "      <td>12168.45</td>\n",
              "      <td>28495.00</td>\n",
              "      <td>28549.50</td>\n",
              "      <td>28270.25</td>\n",
              "      <td>28307.55</td>\n",
              "    </tr>\n",
              "    <tr>\n",
              "      <th>30 Dec 2019</th>\n",
              "      <td>12274.90</td>\n",
              "      <td>12286.45</td>\n",
              "      <td>12213.80</td>\n",
              "      <td>12255.85</td>\n",
              "      <td>28528.95</td>\n",
              "      <td>28612.95</td>\n",
              "      <td>28406.70</td>\n",
              "      <td>28484.85</td>\n",
              "    </tr>\n",
              "    <tr>\n",
              "      <th>27 Dec 2019</th>\n",
              "      <td>12172.90</td>\n",
              "      <td>12258.45</td>\n",
              "      <td>12157.90</td>\n",
              "      <td>12245.80</td>\n",
              "      <td>28354.50</td>\n",
              "      <td>28500.25</td>\n",
              "      <td>28319.90</td>\n",
              "      <td>28476.80</td>\n",
              "    </tr>\n",
              "    <tr>\n",
              "      <th>26 Dec 2019</th>\n",
              "      <td>12211.85</td>\n",
              "      <td>12221.55</td>\n",
              "      <td>12118.85</td>\n",
              "      <td>12126.55</td>\n",
              "      <td>28409.10</td>\n",
              "      <td>28435.25</td>\n",
              "      <td>28259.75</td>\n",
              "      <td>28280.25</td>\n",
              "    </tr>\n",
              "    <tr>\n",
              "      <th>24 Dec 2019</th>\n",
              "      <td>12269.25</td>\n",
              "      <td>12283.70</td>\n",
              "      <td>12202.10</td>\n",
              "      <td>12214.55</td>\n",
              "      <td>28423.70</td>\n",
              "      <td>28430.40</td>\n",
              "      <td>28318.75</td>\n",
              "      <td>28382.85</td>\n",
              "    </tr>\n",
              "  </tbody>\n",
              "</table>\n",
              "</div>"
            ],
            "text/plain": [
              "              nifty50                      ... niiftynext50                    \n",
              "                 Open      High       Low  ...         High       Low     Close\n",
              "Date                                       ...                                 \n",
              "31 Dec 2019  12247.10  12247.10  12151.80  ...     28549.50  28270.25  28307.55\n",
              "30 Dec 2019  12274.90  12286.45  12213.80  ...     28612.95  28406.70  28484.85\n",
              "27 Dec 2019  12172.90  12258.45  12157.90  ...     28500.25  28319.90  28476.80\n",
              "26 Dec 2019  12211.85  12221.55  12118.85  ...     28435.25  28259.75  28280.25\n",
              "24 Dec 2019  12269.25  12283.70  12202.10  ...     28430.40  28318.75  28382.85\n",
              "\n",
              "[5 rows x 8 columns]"
            ]
          },
          "metadata": {
            "tags": []
          },
          "execution_count": 20
        }
      ]
    },
    {
      "cell_type": "code",
      "metadata": {
        "id": "Whk3YOTSRs8L",
        "colab_type": "code",
        "colab": {
          "base_uri": "https://localhost:8080/",
          "height": 102
        },
        "outputId": "c57d43a5-053e-4a08-adbb-6058afdba19c"
      },
      "source": [
        "nifty_2019['nifty50'].loc['31 Dec 2019']"
      ],
      "execution_count": null,
      "outputs": [
        {
          "output_type": "execute_result",
          "data": {
            "text/plain": [
              "Open     12247.10\n",
              "High     12247.10\n",
              "Low      12151.80\n",
              "Close    12168.45\n",
              "Name: 31 Dec 2019, dtype: float64"
            ]
          },
          "metadata": {
            "tags": []
          },
          "execution_count": 21
        }
      ]
    },
    {
      "cell_type": "code",
      "metadata": {
        "id": "Rcs5vEdZSj13",
        "colab_type": "code",
        "colab": {}
      },
      "source": [
        ""
      ],
      "execution_count": null,
      "outputs": []
    }
  ]
}